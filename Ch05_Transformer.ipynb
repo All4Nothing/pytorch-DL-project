{
  "nbformat": 4,
  "nbformat_minor": 0,
  "metadata": {
    "colab": {
      "provenance": [],
      "gpuType": "T4",
      "authorship_tag": "ABX9TyMjrBhTv2sTWODcz4q+Kc0T",
      "include_colab_link": true
    },
    "kernelspec": {
      "name": "python3",
      "display_name": "Python 3"
    },
    "language_info": {
      "name": "python"
    },
    "accelerator": "GPU",
    "widgets": {
      "application/vnd.jupyter.widget-state+json": {
        "a45f9e9613484d8c906b27a045c3ba63": {
          "model_module": "@jupyter-widgets/controls",
          "model_name": "HBoxModel",
          "model_module_version": "1.5.0",
          "state": {
            "_dom_classes": [],
            "_model_module": "@jupyter-widgets/controls",
            "_model_module_version": "1.5.0",
            "_model_name": "HBoxModel",
            "_view_count": null,
            "_view_module": "@jupyter-widgets/controls",
            "_view_module_version": "1.5.0",
            "_view_name": "HBoxView",
            "box_style": "",
            "children": [
              "IPY_MODEL_e56f50194efc40d1a0f4bfa124e1acd8",
              "IPY_MODEL_61bfda8725a049faa9a313b09d592667",
              "IPY_MODEL_6a48b1b0bc074a5794ed181b8bbb3534"
            ],
            "layout": "IPY_MODEL_8fb2de0f090241f8991125d792db9e71"
          }
        },
        "e56f50194efc40d1a0f4bfa124e1acd8": {
          "model_module": "@jupyter-widgets/controls",
          "model_name": "HTMLModel",
          "model_module_version": "1.5.0",
          "state": {
            "_dom_classes": [],
            "_model_module": "@jupyter-widgets/controls",
            "_model_module_version": "1.5.0",
            "_model_name": "HTMLModel",
            "_view_count": null,
            "_view_module": "@jupyter-widgets/controls",
            "_view_module_version": "1.5.0",
            "_view_name": "HTMLView",
            "description": "",
            "description_tooltip": null,
            "layout": "IPY_MODEL_4260738ae53e4a449750dd2b9f868d2f",
            "placeholder": "​",
            "style": "IPY_MODEL_e30209d6c19b4325880ad8994a0c48a6",
            "value": "Downloading (…)lve/main/config.json: 100%"
          }
        },
        "61bfda8725a049faa9a313b09d592667": {
          "model_module": "@jupyter-widgets/controls",
          "model_name": "FloatProgressModel",
          "model_module_version": "1.5.0",
          "state": {
            "_dom_classes": [],
            "_model_module": "@jupyter-widgets/controls",
            "_model_module_version": "1.5.0",
            "_model_name": "FloatProgressModel",
            "_view_count": null,
            "_view_module": "@jupyter-widgets/controls",
            "_view_module_version": "1.5.0",
            "_view_name": "ProgressView",
            "bar_style": "success",
            "description": "",
            "description_tooltip": null,
            "layout": "IPY_MODEL_78bea1ee9d144efca3c10c77cc44868e",
            "max": 570,
            "min": 0,
            "orientation": "horizontal",
            "style": "IPY_MODEL_a73aba0a1c2e4650ad91183b4379dda8",
            "value": 570
          }
        },
        "6a48b1b0bc074a5794ed181b8bbb3534": {
          "model_module": "@jupyter-widgets/controls",
          "model_name": "HTMLModel",
          "model_module_version": "1.5.0",
          "state": {
            "_dom_classes": [],
            "_model_module": "@jupyter-widgets/controls",
            "_model_module_version": "1.5.0",
            "_model_name": "HTMLModel",
            "_view_count": null,
            "_view_module": "@jupyter-widgets/controls",
            "_view_module_version": "1.5.0",
            "_view_name": "HTMLView",
            "description": "",
            "description_tooltip": null,
            "layout": "IPY_MODEL_9f5e88ef2d5c4bd0ad19db18df5ab3e2",
            "placeholder": "​",
            "style": "IPY_MODEL_193b6cacf92d4b9eb6f43d09a70b8cfa",
            "value": " 570/570 [00:00&lt;00:00, 11.0kB/s]"
          }
        },
        "8fb2de0f090241f8991125d792db9e71": {
          "model_module": "@jupyter-widgets/base",
          "model_name": "LayoutModel",
          "model_module_version": "1.2.0",
          "state": {
            "_model_module": "@jupyter-widgets/base",
            "_model_module_version": "1.2.0",
            "_model_name": "LayoutModel",
            "_view_count": null,
            "_view_module": "@jupyter-widgets/base",
            "_view_module_version": "1.2.0",
            "_view_name": "LayoutView",
            "align_content": null,
            "align_items": null,
            "align_self": null,
            "border": null,
            "bottom": null,
            "display": null,
            "flex": null,
            "flex_flow": null,
            "grid_area": null,
            "grid_auto_columns": null,
            "grid_auto_flow": null,
            "grid_auto_rows": null,
            "grid_column": null,
            "grid_gap": null,
            "grid_row": null,
            "grid_template_areas": null,
            "grid_template_columns": null,
            "grid_template_rows": null,
            "height": null,
            "justify_content": null,
            "justify_items": null,
            "left": null,
            "margin": null,
            "max_height": null,
            "max_width": null,
            "min_height": null,
            "min_width": null,
            "object_fit": null,
            "object_position": null,
            "order": null,
            "overflow": null,
            "overflow_x": null,
            "overflow_y": null,
            "padding": null,
            "right": null,
            "top": null,
            "visibility": null,
            "width": null
          }
        },
        "4260738ae53e4a449750dd2b9f868d2f": {
          "model_module": "@jupyter-widgets/base",
          "model_name": "LayoutModel",
          "model_module_version": "1.2.0",
          "state": {
            "_model_module": "@jupyter-widgets/base",
            "_model_module_version": "1.2.0",
            "_model_name": "LayoutModel",
            "_view_count": null,
            "_view_module": "@jupyter-widgets/base",
            "_view_module_version": "1.2.0",
            "_view_name": "LayoutView",
            "align_content": null,
            "align_items": null,
            "align_self": null,
            "border": null,
            "bottom": null,
            "display": null,
            "flex": null,
            "flex_flow": null,
            "grid_area": null,
            "grid_auto_columns": null,
            "grid_auto_flow": null,
            "grid_auto_rows": null,
            "grid_column": null,
            "grid_gap": null,
            "grid_row": null,
            "grid_template_areas": null,
            "grid_template_columns": null,
            "grid_template_rows": null,
            "height": null,
            "justify_content": null,
            "justify_items": null,
            "left": null,
            "margin": null,
            "max_height": null,
            "max_width": null,
            "min_height": null,
            "min_width": null,
            "object_fit": null,
            "object_position": null,
            "order": null,
            "overflow": null,
            "overflow_x": null,
            "overflow_y": null,
            "padding": null,
            "right": null,
            "top": null,
            "visibility": null,
            "width": null
          }
        },
        "e30209d6c19b4325880ad8994a0c48a6": {
          "model_module": "@jupyter-widgets/controls",
          "model_name": "DescriptionStyleModel",
          "model_module_version": "1.5.0",
          "state": {
            "_model_module": "@jupyter-widgets/controls",
            "_model_module_version": "1.5.0",
            "_model_name": "DescriptionStyleModel",
            "_view_count": null,
            "_view_module": "@jupyter-widgets/base",
            "_view_module_version": "1.2.0",
            "_view_name": "StyleView",
            "description_width": ""
          }
        },
        "78bea1ee9d144efca3c10c77cc44868e": {
          "model_module": "@jupyter-widgets/base",
          "model_name": "LayoutModel",
          "model_module_version": "1.2.0",
          "state": {
            "_model_module": "@jupyter-widgets/base",
            "_model_module_version": "1.2.0",
            "_model_name": "LayoutModel",
            "_view_count": null,
            "_view_module": "@jupyter-widgets/base",
            "_view_module_version": "1.2.0",
            "_view_name": "LayoutView",
            "align_content": null,
            "align_items": null,
            "align_self": null,
            "border": null,
            "bottom": null,
            "display": null,
            "flex": null,
            "flex_flow": null,
            "grid_area": null,
            "grid_auto_columns": null,
            "grid_auto_flow": null,
            "grid_auto_rows": null,
            "grid_column": null,
            "grid_gap": null,
            "grid_row": null,
            "grid_template_areas": null,
            "grid_template_columns": null,
            "grid_template_rows": null,
            "height": null,
            "justify_content": null,
            "justify_items": null,
            "left": null,
            "margin": null,
            "max_height": null,
            "max_width": null,
            "min_height": null,
            "min_width": null,
            "object_fit": null,
            "object_position": null,
            "order": null,
            "overflow": null,
            "overflow_x": null,
            "overflow_y": null,
            "padding": null,
            "right": null,
            "top": null,
            "visibility": null,
            "width": null
          }
        },
        "a73aba0a1c2e4650ad91183b4379dda8": {
          "model_module": "@jupyter-widgets/controls",
          "model_name": "ProgressStyleModel",
          "model_module_version": "1.5.0",
          "state": {
            "_model_module": "@jupyter-widgets/controls",
            "_model_module_version": "1.5.0",
            "_model_name": "ProgressStyleModel",
            "_view_count": null,
            "_view_module": "@jupyter-widgets/base",
            "_view_module_version": "1.2.0",
            "_view_name": "StyleView",
            "bar_color": null,
            "description_width": ""
          }
        },
        "9f5e88ef2d5c4bd0ad19db18df5ab3e2": {
          "model_module": "@jupyter-widgets/base",
          "model_name": "LayoutModel",
          "model_module_version": "1.2.0",
          "state": {
            "_model_module": "@jupyter-widgets/base",
            "_model_module_version": "1.2.0",
            "_model_name": "LayoutModel",
            "_view_count": null,
            "_view_module": "@jupyter-widgets/base",
            "_view_module_version": "1.2.0",
            "_view_name": "LayoutView",
            "align_content": null,
            "align_items": null,
            "align_self": null,
            "border": null,
            "bottom": null,
            "display": null,
            "flex": null,
            "flex_flow": null,
            "grid_area": null,
            "grid_auto_columns": null,
            "grid_auto_flow": null,
            "grid_auto_rows": null,
            "grid_column": null,
            "grid_gap": null,
            "grid_row": null,
            "grid_template_areas": null,
            "grid_template_columns": null,
            "grid_template_rows": null,
            "height": null,
            "justify_content": null,
            "justify_items": null,
            "left": null,
            "margin": null,
            "max_height": null,
            "max_width": null,
            "min_height": null,
            "min_width": null,
            "object_fit": null,
            "object_position": null,
            "order": null,
            "overflow": null,
            "overflow_x": null,
            "overflow_y": null,
            "padding": null,
            "right": null,
            "top": null,
            "visibility": null,
            "width": null
          }
        },
        "193b6cacf92d4b9eb6f43d09a70b8cfa": {
          "model_module": "@jupyter-widgets/controls",
          "model_name": "DescriptionStyleModel",
          "model_module_version": "1.5.0",
          "state": {
            "_model_module": "@jupyter-widgets/controls",
            "_model_module_version": "1.5.0",
            "_model_name": "DescriptionStyleModel",
            "_view_count": null,
            "_view_module": "@jupyter-widgets/base",
            "_view_module_version": "1.2.0",
            "_view_name": "StyleView",
            "description_width": ""
          }
        },
        "bbd544acfcce4bc996e717cc79832940": {
          "model_module": "@jupyter-widgets/controls",
          "model_name": "HBoxModel",
          "model_module_version": "1.5.0",
          "state": {
            "_dom_classes": [],
            "_model_module": "@jupyter-widgets/controls",
            "_model_module_version": "1.5.0",
            "_model_name": "HBoxModel",
            "_view_count": null,
            "_view_module": "@jupyter-widgets/controls",
            "_view_module_version": "1.5.0",
            "_view_name": "HBoxView",
            "box_style": "",
            "children": [
              "IPY_MODEL_0d9d0460e2f74bc583c4f1e01d6cdf63",
              "IPY_MODEL_209a97a3a92a420083c8f417674d17b8",
              "IPY_MODEL_8012ef3712594117a6f6348e35ed5502"
            ],
            "layout": "IPY_MODEL_944eeed4a5704f1bba7f821253943623"
          }
        },
        "0d9d0460e2f74bc583c4f1e01d6cdf63": {
          "model_module": "@jupyter-widgets/controls",
          "model_name": "HTMLModel",
          "model_module_version": "1.5.0",
          "state": {
            "_dom_classes": [],
            "_model_module": "@jupyter-widgets/controls",
            "_model_module_version": "1.5.0",
            "_model_name": "HTMLModel",
            "_view_count": null,
            "_view_module": "@jupyter-widgets/controls",
            "_view_module_version": "1.5.0",
            "_view_name": "HTMLView",
            "description": "",
            "description_tooltip": null,
            "layout": "IPY_MODEL_439cc05f25234ba4bc1b3fe3efaed815",
            "placeholder": "​",
            "style": "IPY_MODEL_6dd0365c17024b72ad1454520ef1a070",
            "value": "Downloading model.safetensors: 100%"
          }
        },
        "209a97a3a92a420083c8f417674d17b8": {
          "model_module": "@jupyter-widgets/controls",
          "model_name": "FloatProgressModel",
          "model_module_version": "1.5.0",
          "state": {
            "_dom_classes": [],
            "_model_module": "@jupyter-widgets/controls",
            "_model_module_version": "1.5.0",
            "_model_name": "FloatProgressModel",
            "_view_count": null,
            "_view_module": "@jupyter-widgets/controls",
            "_view_module_version": "1.5.0",
            "_view_name": "ProgressView",
            "bar_style": "success",
            "description": "",
            "description_tooltip": null,
            "layout": "IPY_MODEL_70e741de252d46519e8fe79e2b8e92d8",
            "max": 440449768,
            "min": 0,
            "orientation": "horizontal",
            "style": "IPY_MODEL_82433eaaf7494841b99f2489c274a039",
            "value": 440449768
          }
        },
        "8012ef3712594117a6f6348e35ed5502": {
          "model_module": "@jupyter-widgets/controls",
          "model_name": "HTMLModel",
          "model_module_version": "1.5.0",
          "state": {
            "_dom_classes": [],
            "_model_module": "@jupyter-widgets/controls",
            "_model_module_version": "1.5.0",
            "_model_name": "HTMLModel",
            "_view_count": null,
            "_view_module": "@jupyter-widgets/controls",
            "_view_module_version": "1.5.0",
            "_view_name": "HTMLView",
            "description": "",
            "description_tooltip": null,
            "layout": "IPY_MODEL_ddf3f2b7f7d24ae8bd4152712fafa101",
            "placeholder": "​",
            "style": "IPY_MODEL_355ac04678cb4909add9586057cfab26",
            "value": " 440M/440M [00:04&lt;00:00, 125MB/s]"
          }
        },
        "944eeed4a5704f1bba7f821253943623": {
          "model_module": "@jupyter-widgets/base",
          "model_name": "LayoutModel",
          "model_module_version": "1.2.0",
          "state": {
            "_model_module": "@jupyter-widgets/base",
            "_model_module_version": "1.2.0",
            "_model_name": "LayoutModel",
            "_view_count": null,
            "_view_module": "@jupyter-widgets/base",
            "_view_module_version": "1.2.0",
            "_view_name": "LayoutView",
            "align_content": null,
            "align_items": null,
            "align_self": null,
            "border": null,
            "bottom": null,
            "display": null,
            "flex": null,
            "flex_flow": null,
            "grid_area": null,
            "grid_auto_columns": null,
            "grid_auto_flow": null,
            "grid_auto_rows": null,
            "grid_column": null,
            "grid_gap": null,
            "grid_row": null,
            "grid_template_areas": null,
            "grid_template_columns": null,
            "grid_template_rows": null,
            "height": null,
            "justify_content": null,
            "justify_items": null,
            "left": null,
            "margin": null,
            "max_height": null,
            "max_width": null,
            "min_height": null,
            "min_width": null,
            "object_fit": null,
            "object_position": null,
            "order": null,
            "overflow": null,
            "overflow_x": null,
            "overflow_y": null,
            "padding": null,
            "right": null,
            "top": null,
            "visibility": null,
            "width": null
          }
        },
        "439cc05f25234ba4bc1b3fe3efaed815": {
          "model_module": "@jupyter-widgets/base",
          "model_name": "LayoutModel",
          "model_module_version": "1.2.0",
          "state": {
            "_model_module": "@jupyter-widgets/base",
            "_model_module_version": "1.2.0",
            "_model_name": "LayoutModel",
            "_view_count": null,
            "_view_module": "@jupyter-widgets/base",
            "_view_module_version": "1.2.0",
            "_view_name": "LayoutView",
            "align_content": null,
            "align_items": null,
            "align_self": null,
            "border": null,
            "bottom": null,
            "display": null,
            "flex": null,
            "flex_flow": null,
            "grid_area": null,
            "grid_auto_columns": null,
            "grid_auto_flow": null,
            "grid_auto_rows": null,
            "grid_column": null,
            "grid_gap": null,
            "grid_row": null,
            "grid_template_areas": null,
            "grid_template_columns": null,
            "grid_template_rows": null,
            "height": null,
            "justify_content": null,
            "justify_items": null,
            "left": null,
            "margin": null,
            "max_height": null,
            "max_width": null,
            "min_height": null,
            "min_width": null,
            "object_fit": null,
            "object_position": null,
            "order": null,
            "overflow": null,
            "overflow_x": null,
            "overflow_y": null,
            "padding": null,
            "right": null,
            "top": null,
            "visibility": null,
            "width": null
          }
        },
        "6dd0365c17024b72ad1454520ef1a070": {
          "model_module": "@jupyter-widgets/controls",
          "model_name": "DescriptionStyleModel",
          "model_module_version": "1.5.0",
          "state": {
            "_model_module": "@jupyter-widgets/controls",
            "_model_module_version": "1.5.0",
            "_model_name": "DescriptionStyleModel",
            "_view_count": null,
            "_view_module": "@jupyter-widgets/base",
            "_view_module_version": "1.2.0",
            "_view_name": "StyleView",
            "description_width": ""
          }
        },
        "70e741de252d46519e8fe79e2b8e92d8": {
          "model_module": "@jupyter-widgets/base",
          "model_name": "LayoutModel",
          "model_module_version": "1.2.0",
          "state": {
            "_model_module": "@jupyter-widgets/base",
            "_model_module_version": "1.2.0",
            "_model_name": "LayoutModel",
            "_view_count": null,
            "_view_module": "@jupyter-widgets/base",
            "_view_module_version": "1.2.0",
            "_view_name": "LayoutView",
            "align_content": null,
            "align_items": null,
            "align_self": null,
            "border": null,
            "bottom": null,
            "display": null,
            "flex": null,
            "flex_flow": null,
            "grid_area": null,
            "grid_auto_columns": null,
            "grid_auto_flow": null,
            "grid_auto_rows": null,
            "grid_column": null,
            "grid_gap": null,
            "grid_row": null,
            "grid_template_areas": null,
            "grid_template_columns": null,
            "grid_template_rows": null,
            "height": null,
            "justify_content": null,
            "justify_items": null,
            "left": null,
            "margin": null,
            "max_height": null,
            "max_width": null,
            "min_height": null,
            "min_width": null,
            "object_fit": null,
            "object_position": null,
            "order": null,
            "overflow": null,
            "overflow_x": null,
            "overflow_y": null,
            "padding": null,
            "right": null,
            "top": null,
            "visibility": null,
            "width": null
          }
        },
        "82433eaaf7494841b99f2489c274a039": {
          "model_module": "@jupyter-widgets/controls",
          "model_name": "ProgressStyleModel",
          "model_module_version": "1.5.0",
          "state": {
            "_model_module": "@jupyter-widgets/controls",
            "_model_module_version": "1.5.0",
            "_model_name": "ProgressStyleModel",
            "_view_count": null,
            "_view_module": "@jupyter-widgets/base",
            "_view_module_version": "1.2.0",
            "_view_name": "StyleView",
            "bar_color": null,
            "description_width": ""
          }
        },
        "ddf3f2b7f7d24ae8bd4152712fafa101": {
          "model_module": "@jupyter-widgets/base",
          "model_name": "LayoutModel",
          "model_module_version": "1.2.0",
          "state": {
            "_model_module": "@jupyter-widgets/base",
            "_model_module_version": "1.2.0",
            "_model_name": "LayoutModel",
            "_view_count": null,
            "_view_module": "@jupyter-widgets/base",
            "_view_module_version": "1.2.0",
            "_view_name": "LayoutView",
            "align_content": null,
            "align_items": null,
            "align_self": null,
            "border": null,
            "bottom": null,
            "display": null,
            "flex": null,
            "flex_flow": null,
            "grid_area": null,
            "grid_auto_columns": null,
            "grid_auto_flow": null,
            "grid_auto_rows": null,
            "grid_column": null,
            "grid_gap": null,
            "grid_row": null,
            "grid_template_areas": null,
            "grid_template_columns": null,
            "grid_template_rows": null,
            "height": null,
            "justify_content": null,
            "justify_items": null,
            "left": null,
            "margin": null,
            "max_height": null,
            "max_width": null,
            "min_height": null,
            "min_width": null,
            "object_fit": null,
            "object_position": null,
            "order": null,
            "overflow": null,
            "overflow_x": null,
            "overflow_y": null,
            "padding": null,
            "right": null,
            "top": null,
            "visibility": null,
            "width": null
          }
        },
        "355ac04678cb4909add9586057cfab26": {
          "model_module": "@jupyter-widgets/controls",
          "model_name": "DescriptionStyleModel",
          "model_module_version": "1.5.0",
          "state": {
            "_model_module": "@jupyter-widgets/controls",
            "_model_module_version": "1.5.0",
            "_model_name": "DescriptionStyleModel",
            "_view_count": null,
            "_view_module": "@jupyter-widgets/base",
            "_view_module_version": "1.2.0",
            "_view_name": "StyleView",
            "description_width": ""
          }
        },
        "40e8f19a7659446dba9bf5825d93eaac": {
          "model_module": "@jupyter-widgets/controls",
          "model_name": "HBoxModel",
          "model_module_version": "1.5.0",
          "state": {
            "_dom_classes": [],
            "_model_module": "@jupyter-widgets/controls",
            "_model_module_version": "1.5.0",
            "_model_name": "HBoxModel",
            "_view_count": null,
            "_view_module": "@jupyter-widgets/controls",
            "_view_module_version": "1.5.0",
            "_view_name": "HBoxView",
            "box_style": "",
            "children": [
              "IPY_MODEL_32f53788d20149ba9483f751a283ab61",
              "IPY_MODEL_284eba028c164f80b6dfc775e309f9e8",
              "IPY_MODEL_407500b06b7b431682b534adfe9f8b27"
            ],
            "layout": "IPY_MODEL_92dd8d82523d4a0ea3bfb584dcd5a933"
          }
        },
        "32f53788d20149ba9483f751a283ab61": {
          "model_module": "@jupyter-widgets/controls",
          "model_name": "HTMLModel",
          "model_module_version": "1.5.0",
          "state": {
            "_dom_classes": [],
            "_model_module": "@jupyter-widgets/controls",
            "_model_module_version": "1.5.0",
            "_model_name": "HTMLModel",
            "_view_count": null,
            "_view_module": "@jupyter-widgets/controls",
            "_view_module_version": "1.5.0",
            "_view_name": "HTMLView",
            "description": "",
            "description_tooltip": null,
            "layout": "IPY_MODEL_09817a6d08984c2fbe12cbe58ae2991d",
            "placeholder": "​",
            "style": "IPY_MODEL_e41f6da01c7f4b9eacce4e7eac3cbeff",
            "value": "Downloading (…)solve/main/vocab.txt: 100%"
          }
        },
        "284eba028c164f80b6dfc775e309f9e8": {
          "model_module": "@jupyter-widgets/controls",
          "model_name": "FloatProgressModel",
          "model_module_version": "1.5.0",
          "state": {
            "_dom_classes": [],
            "_model_module": "@jupyter-widgets/controls",
            "_model_module_version": "1.5.0",
            "_model_name": "FloatProgressModel",
            "_view_count": null,
            "_view_module": "@jupyter-widgets/controls",
            "_view_module_version": "1.5.0",
            "_view_name": "ProgressView",
            "bar_style": "success",
            "description": "",
            "description_tooltip": null,
            "layout": "IPY_MODEL_706161c753c549f4b8a62f9e10c23afa",
            "max": 231508,
            "min": 0,
            "orientation": "horizontal",
            "style": "IPY_MODEL_f309de82648041abacab0d3da931d0e9",
            "value": 231508
          }
        },
        "407500b06b7b431682b534adfe9f8b27": {
          "model_module": "@jupyter-widgets/controls",
          "model_name": "HTMLModel",
          "model_module_version": "1.5.0",
          "state": {
            "_dom_classes": [],
            "_model_module": "@jupyter-widgets/controls",
            "_model_module_version": "1.5.0",
            "_model_name": "HTMLModel",
            "_view_count": null,
            "_view_module": "@jupyter-widgets/controls",
            "_view_module_version": "1.5.0",
            "_view_name": "HTMLView",
            "description": "",
            "description_tooltip": null,
            "layout": "IPY_MODEL_9ae03a1da9a64a5691c98750dc17e0d0",
            "placeholder": "​",
            "style": "IPY_MODEL_042c9bdcd4e94b30b249ca52fef57178",
            "value": " 232k/232k [00:00&lt;00:00, 2.54MB/s]"
          }
        },
        "92dd8d82523d4a0ea3bfb584dcd5a933": {
          "model_module": "@jupyter-widgets/base",
          "model_name": "LayoutModel",
          "model_module_version": "1.2.0",
          "state": {
            "_model_module": "@jupyter-widgets/base",
            "_model_module_version": "1.2.0",
            "_model_name": "LayoutModel",
            "_view_count": null,
            "_view_module": "@jupyter-widgets/base",
            "_view_module_version": "1.2.0",
            "_view_name": "LayoutView",
            "align_content": null,
            "align_items": null,
            "align_self": null,
            "border": null,
            "bottom": null,
            "display": null,
            "flex": null,
            "flex_flow": null,
            "grid_area": null,
            "grid_auto_columns": null,
            "grid_auto_flow": null,
            "grid_auto_rows": null,
            "grid_column": null,
            "grid_gap": null,
            "grid_row": null,
            "grid_template_areas": null,
            "grid_template_columns": null,
            "grid_template_rows": null,
            "height": null,
            "justify_content": null,
            "justify_items": null,
            "left": null,
            "margin": null,
            "max_height": null,
            "max_width": null,
            "min_height": null,
            "min_width": null,
            "object_fit": null,
            "object_position": null,
            "order": null,
            "overflow": null,
            "overflow_x": null,
            "overflow_y": null,
            "padding": null,
            "right": null,
            "top": null,
            "visibility": null,
            "width": null
          }
        },
        "09817a6d08984c2fbe12cbe58ae2991d": {
          "model_module": "@jupyter-widgets/base",
          "model_name": "LayoutModel",
          "model_module_version": "1.2.0",
          "state": {
            "_model_module": "@jupyter-widgets/base",
            "_model_module_version": "1.2.0",
            "_model_name": "LayoutModel",
            "_view_count": null,
            "_view_module": "@jupyter-widgets/base",
            "_view_module_version": "1.2.0",
            "_view_name": "LayoutView",
            "align_content": null,
            "align_items": null,
            "align_self": null,
            "border": null,
            "bottom": null,
            "display": null,
            "flex": null,
            "flex_flow": null,
            "grid_area": null,
            "grid_auto_columns": null,
            "grid_auto_flow": null,
            "grid_auto_rows": null,
            "grid_column": null,
            "grid_gap": null,
            "grid_row": null,
            "grid_template_areas": null,
            "grid_template_columns": null,
            "grid_template_rows": null,
            "height": null,
            "justify_content": null,
            "justify_items": null,
            "left": null,
            "margin": null,
            "max_height": null,
            "max_width": null,
            "min_height": null,
            "min_width": null,
            "object_fit": null,
            "object_position": null,
            "order": null,
            "overflow": null,
            "overflow_x": null,
            "overflow_y": null,
            "padding": null,
            "right": null,
            "top": null,
            "visibility": null,
            "width": null
          }
        },
        "e41f6da01c7f4b9eacce4e7eac3cbeff": {
          "model_module": "@jupyter-widgets/controls",
          "model_name": "DescriptionStyleModel",
          "model_module_version": "1.5.0",
          "state": {
            "_model_module": "@jupyter-widgets/controls",
            "_model_module_version": "1.5.0",
            "_model_name": "DescriptionStyleModel",
            "_view_count": null,
            "_view_module": "@jupyter-widgets/base",
            "_view_module_version": "1.2.0",
            "_view_name": "StyleView",
            "description_width": ""
          }
        },
        "706161c753c549f4b8a62f9e10c23afa": {
          "model_module": "@jupyter-widgets/base",
          "model_name": "LayoutModel",
          "model_module_version": "1.2.0",
          "state": {
            "_model_module": "@jupyter-widgets/base",
            "_model_module_version": "1.2.0",
            "_model_name": "LayoutModel",
            "_view_count": null,
            "_view_module": "@jupyter-widgets/base",
            "_view_module_version": "1.2.0",
            "_view_name": "LayoutView",
            "align_content": null,
            "align_items": null,
            "align_self": null,
            "border": null,
            "bottom": null,
            "display": null,
            "flex": null,
            "flex_flow": null,
            "grid_area": null,
            "grid_auto_columns": null,
            "grid_auto_flow": null,
            "grid_auto_rows": null,
            "grid_column": null,
            "grid_gap": null,
            "grid_row": null,
            "grid_template_areas": null,
            "grid_template_columns": null,
            "grid_template_rows": null,
            "height": null,
            "justify_content": null,
            "justify_items": null,
            "left": null,
            "margin": null,
            "max_height": null,
            "max_width": null,
            "min_height": null,
            "min_width": null,
            "object_fit": null,
            "object_position": null,
            "order": null,
            "overflow": null,
            "overflow_x": null,
            "overflow_y": null,
            "padding": null,
            "right": null,
            "top": null,
            "visibility": null,
            "width": null
          }
        },
        "f309de82648041abacab0d3da931d0e9": {
          "model_module": "@jupyter-widgets/controls",
          "model_name": "ProgressStyleModel",
          "model_module_version": "1.5.0",
          "state": {
            "_model_module": "@jupyter-widgets/controls",
            "_model_module_version": "1.5.0",
            "_model_name": "ProgressStyleModel",
            "_view_count": null,
            "_view_module": "@jupyter-widgets/base",
            "_view_module_version": "1.2.0",
            "_view_name": "StyleView",
            "bar_color": null,
            "description_width": ""
          }
        },
        "9ae03a1da9a64a5691c98750dc17e0d0": {
          "model_module": "@jupyter-widgets/base",
          "model_name": "LayoutModel",
          "model_module_version": "1.2.0",
          "state": {
            "_model_module": "@jupyter-widgets/base",
            "_model_module_version": "1.2.0",
            "_model_name": "LayoutModel",
            "_view_count": null,
            "_view_module": "@jupyter-widgets/base",
            "_view_module_version": "1.2.0",
            "_view_name": "LayoutView",
            "align_content": null,
            "align_items": null,
            "align_self": null,
            "border": null,
            "bottom": null,
            "display": null,
            "flex": null,
            "flex_flow": null,
            "grid_area": null,
            "grid_auto_columns": null,
            "grid_auto_flow": null,
            "grid_auto_rows": null,
            "grid_column": null,
            "grid_gap": null,
            "grid_row": null,
            "grid_template_areas": null,
            "grid_template_columns": null,
            "grid_template_rows": null,
            "height": null,
            "justify_content": null,
            "justify_items": null,
            "left": null,
            "margin": null,
            "max_height": null,
            "max_width": null,
            "min_height": null,
            "min_width": null,
            "object_fit": null,
            "object_position": null,
            "order": null,
            "overflow": null,
            "overflow_x": null,
            "overflow_y": null,
            "padding": null,
            "right": null,
            "top": null,
            "visibility": null,
            "width": null
          }
        },
        "042c9bdcd4e94b30b249ca52fef57178": {
          "model_module": "@jupyter-widgets/controls",
          "model_name": "DescriptionStyleModel",
          "model_module_version": "1.5.0",
          "state": {
            "_model_module": "@jupyter-widgets/controls",
            "_model_module_version": "1.5.0",
            "_model_name": "DescriptionStyleModel",
            "_view_count": null,
            "_view_module": "@jupyter-widgets/base",
            "_view_module_version": "1.2.0",
            "_view_name": "StyleView",
            "description_width": ""
          }
        },
        "c4e69f0a6935464d98527e79403deb8d": {
          "model_module": "@jupyter-widgets/controls",
          "model_name": "HBoxModel",
          "model_module_version": "1.5.0",
          "state": {
            "_dom_classes": [],
            "_model_module": "@jupyter-widgets/controls",
            "_model_module_version": "1.5.0",
            "_model_name": "HBoxModel",
            "_view_count": null,
            "_view_module": "@jupyter-widgets/controls",
            "_view_module_version": "1.5.0",
            "_view_name": "HBoxView",
            "box_style": "",
            "children": [
              "IPY_MODEL_2e5f26c2e97f42b1af9241f04587c228",
              "IPY_MODEL_5cb2664789804602ad0843521c4f4a5d",
              "IPY_MODEL_cffe982b5ef5402884868168125ac45e"
            ],
            "layout": "IPY_MODEL_fef3778fac6e4767ab353045cb02f4d6"
          }
        },
        "2e5f26c2e97f42b1af9241f04587c228": {
          "model_module": "@jupyter-widgets/controls",
          "model_name": "HTMLModel",
          "model_module_version": "1.5.0",
          "state": {
            "_dom_classes": [],
            "_model_module": "@jupyter-widgets/controls",
            "_model_module_version": "1.5.0",
            "_model_name": "HTMLModel",
            "_view_count": null,
            "_view_module": "@jupyter-widgets/controls",
            "_view_module_version": "1.5.0",
            "_view_name": "HTMLView",
            "description": "",
            "description_tooltip": null,
            "layout": "IPY_MODEL_be440639c4b84518beb12c13884dbe9c",
            "placeholder": "​",
            "style": "IPY_MODEL_c2284f0930674ba1b3982ad0ef45a441",
            "value": "Downloading (…)okenizer_config.json: 100%"
          }
        },
        "5cb2664789804602ad0843521c4f4a5d": {
          "model_module": "@jupyter-widgets/controls",
          "model_name": "FloatProgressModel",
          "model_module_version": "1.5.0",
          "state": {
            "_dom_classes": [],
            "_model_module": "@jupyter-widgets/controls",
            "_model_module_version": "1.5.0",
            "_model_name": "FloatProgressModel",
            "_view_count": null,
            "_view_module": "@jupyter-widgets/controls",
            "_view_module_version": "1.5.0",
            "_view_name": "ProgressView",
            "bar_style": "success",
            "description": "",
            "description_tooltip": null,
            "layout": "IPY_MODEL_0691af6ba8444733883f5c9c21f3c206",
            "max": 28,
            "min": 0,
            "orientation": "horizontal",
            "style": "IPY_MODEL_7ba9247635ce4d01a1be678b9a58f143",
            "value": 28
          }
        },
        "cffe982b5ef5402884868168125ac45e": {
          "model_module": "@jupyter-widgets/controls",
          "model_name": "HTMLModel",
          "model_module_version": "1.5.0",
          "state": {
            "_dom_classes": [],
            "_model_module": "@jupyter-widgets/controls",
            "_model_module_version": "1.5.0",
            "_model_name": "HTMLModel",
            "_view_count": null,
            "_view_module": "@jupyter-widgets/controls",
            "_view_module_version": "1.5.0",
            "_view_name": "HTMLView",
            "description": "",
            "description_tooltip": null,
            "layout": "IPY_MODEL_db29f29ad0154b2faf74744f9f8921aa",
            "placeholder": "​",
            "style": "IPY_MODEL_5054d809359d432daa276eb49e6047d8",
            "value": " 28.0/28.0 [00:00&lt;00:00, 879B/s]"
          }
        },
        "fef3778fac6e4767ab353045cb02f4d6": {
          "model_module": "@jupyter-widgets/base",
          "model_name": "LayoutModel",
          "model_module_version": "1.2.0",
          "state": {
            "_model_module": "@jupyter-widgets/base",
            "_model_module_version": "1.2.0",
            "_model_name": "LayoutModel",
            "_view_count": null,
            "_view_module": "@jupyter-widgets/base",
            "_view_module_version": "1.2.0",
            "_view_name": "LayoutView",
            "align_content": null,
            "align_items": null,
            "align_self": null,
            "border": null,
            "bottom": null,
            "display": null,
            "flex": null,
            "flex_flow": null,
            "grid_area": null,
            "grid_auto_columns": null,
            "grid_auto_flow": null,
            "grid_auto_rows": null,
            "grid_column": null,
            "grid_gap": null,
            "grid_row": null,
            "grid_template_areas": null,
            "grid_template_columns": null,
            "grid_template_rows": null,
            "height": null,
            "justify_content": null,
            "justify_items": null,
            "left": null,
            "margin": null,
            "max_height": null,
            "max_width": null,
            "min_height": null,
            "min_width": null,
            "object_fit": null,
            "object_position": null,
            "order": null,
            "overflow": null,
            "overflow_x": null,
            "overflow_y": null,
            "padding": null,
            "right": null,
            "top": null,
            "visibility": null,
            "width": null
          }
        },
        "be440639c4b84518beb12c13884dbe9c": {
          "model_module": "@jupyter-widgets/base",
          "model_name": "LayoutModel",
          "model_module_version": "1.2.0",
          "state": {
            "_model_module": "@jupyter-widgets/base",
            "_model_module_version": "1.2.0",
            "_model_name": "LayoutModel",
            "_view_count": null,
            "_view_module": "@jupyter-widgets/base",
            "_view_module_version": "1.2.0",
            "_view_name": "LayoutView",
            "align_content": null,
            "align_items": null,
            "align_self": null,
            "border": null,
            "bottom": null,
            "display": null,
            "flex": null,
            "flex_flow": null,
            "grid_area": null,
            "grid_auto_columns": null,
            "grid_auto_flow": null,
            "grid_auto_rows": null,
            "grid_column": null,
            "grid_gap": null,
            "grid_row": null,
            "grid_template_areas": null,
            "grid_template_columns": null,
            "grid_template_rows": null,
            "height": null,
            "justify_content": null,
            "justify_items": null,
            "left": null,
            "margin": null,
            "max_height": null,
            "max_width": null,
            "min_height": null,
            "min_width": null,
            "object_fit": null,
            "object_position": null,
            "order": null,
            "overflow": null,
            "overflow_x": null,
            "overflow_y": null,
            "padding": null,
            "right": null,
            "top": null,
            "visibility": null,
            "width": null
          }
        },
        "c2284f0930674ba1b3982ad0ef45a441": {
          "model_module": "@jupyter-widgets/controls",
          "model_name": "DescriptionStyleModel",
          "model_module_version": "1.5.0",
          "state": {
            "_model_module": "@jupyter-widgets/controls",
            "_model_module_version": "1.5.0",
            "_model_name": "DescriptionStyleModel",
            "_view_count": null,
            "_view_module": "@jupyter-widgets/base",
            "_view_module_version": "1.2.0",
            "_view_name": "StyleView",
            "description_width": ""
          }
        },
        "0691af6ba8444733883f5c9c21f3c206": {
          "model_module": "@jupyter-widgets/base",
          "model_name": "LayoutModel",
          "model_module_version": "1.2.0",
          "state": {
            "_model_module": "@jupyter-widgets/base",
            "_model_module_version": "1.2.0",
            "_model_name": "LayoutModel",
            "_view_count": null,
            "_view_module": "@jupyter-widgets/base",
            "_view_module_version": "1.2.0",
            "_view_name": "LayoutView",
            "align_content": null,
            "align_items": null,
            "align_self": null,
            "border": null,
            "bottom": null,
            "display": null,
            "flex": null,
            "flex_flow": null,
            "grid_area": null,
            "grid_auto_columns": null,
            "grid_auto_flow": null,
            "grid_auto_rows": null,
            "grid_column": null,
            "grid_gap": null,
            "grid_row": null,
            "grid_template_areas": null,
            "grid_template_columns": null,
            "grid_template_rows": null,
            "height": null,
            "justify_content": null,
            "justify_items": null,
            "left": null,
            "margin": null,
            "max_height": null,
            "max_width": null,
            "min_height": null,
            "min_width": null,
            "object_fit": null,
            "object_position": null,
            "order": null,
            "overflow": null,
            "overflow_x": null,
            "overflow_y": null,
            "padding": null,
            "right": null,
            "top": null,
            "visibility": null,
            "width": null
          }
        },
        "7ba9247635ce4d01a1be678b9a58f143": {
          "model_module": "@jupyter-widgets/controls",
          "model_name": "ProgressStyleModel",
          "model_module_version": "1.5.0",
          "state": {
            "_model_module": "@jupyter-widgets/controls",
            "_model_module_version": "1.5.0",
            "_model_name": "ProgressStyleModel",
            "_view_count": null,
            "_view_module": "@jupyter-widgets/base",
            "_view_module_version": "1.2.0",
            "_view_name": "StyleView",
            "bar_color": null,
            "description_width": ""
          }
        },
        "db29f29ad0154b2faf74744f9f8921aa": {
          "model_module": "@jupyter-widgets/base",
          "model_name": "LayoutModel",
          "model_module_version": "1.2.0",
          "state": {
            "_model_module": "@jupyter-widgets/base",
            "_model_module_version": "1.2.0",
            "_model_name": "LayoutModel",
            "_view_count": null,
            "_view_module": "@jupyter-widgets/base",
            "_view_module_version": "1.2.0",
            "_view_name": "LayoutView",
            "align_content": null,
            "align_items": null,
            "align_self": null,
            "border": null,
            "bottom": null,
            "display": null,
            "flex": null,
            "flex_flow": null,
            "grid_area": null,
            "grid_auto_columns": null,
            "grid_auto_flow": null,
            "grid_auto_rows": null,
            "grid_column": null,
            "grid_gap": null,
            "grid_row": null,
            "grid_template_areas": null,
            "grid_template_columns": null,
            "grid_template_rows": null,
            "height": null,
            "justify_content": null,
            "justify_items": null,
            "left": null,
            "margin": null,
            "max_height": null,
            "max_width": null,
            "min_height": null,
            "min_width": null,
            "object_fit": null,
            "object_position": null,
            "order": null,
            "overflow": null,
            "overflow_x": null,
            "overflow_y": null,
            "padding": null,
            "right": null,
            "top": null,
            "visibility": null,
            "width": null
          }
        },
        "5054d809359d432daa276eb49e6047d8": {
          "model_module": "@jupyter-widgets/controls",
          "model_name": "DescriptionStyleModel",
          "model_module_version": "1.5.0",
          "state": {
            "_model_module": "@jupyter-widgets/controls",
            "_model_module_version": "1.5.0",
            "_model_name": "DescriptionStyleModel",
            "_view_count": null,
            "_view_module": "@jupyter-widgets/base",
            "_view_module_version": "1.2.0",
            "_view_name": "StyleView",
            "description_width": ""
          }
        }
      }
    }
  },
  "cells": [
    {
      "cell_type": "markdown",
      "metadata": {
        "id": "view-in-github",
        "colab_type": "text"
      },
      "source": [
        "<a href=\"https://colab.research.google.com/github/All4Nothing/pytorch-DL-project/blob/main/Ch05_Transformer.ipynb\" target=\"_parent\"><img src=\"https://colab.research.google.com/assets/colab-badge.svg\" alt=\"Open In Colab\"/></a>"
      ]
    },
    {
      "cell_type": "markdown",
      "source": [
        "# 05. 하이브리드 고급 모델"
      ],
      "metadata": {
        "id": "Ch7ZX4PfMPHI"
      }
    },
    {
      "cell_type": "markdown",
      "source": [
        "## 언어 모델링을 위한 트랜스포머 모델 만들기"
      ],
      "metadata": {
        "id": "pAjN2c1NMbze"
      }
    },
    {
      "cell_type": "markdown",
      "source": [
        "### 언어 모델링  \n",
        "**언어 모델링**은 특정 단어 시퀸스가 주어졌을 때 그 뒤를 따를 단어 또는 단어 시퀸스의 발생 확률을 알아내는 작업이다.  \n",
        "예를 들어 'French is a beautiful ___'가 단어 시퀸스로 주어지면 다음에 등장할 단어가 'language'나 'word'등이 나올 확률일 얼마일가? 이러한 확률은 다양한 확률론적/통계적 기술을 사용해 언어를 모델링함으로써 계산된다. 이는 어떤 단어들이 함께 등장하고, 어떤 단어들이 절대 함께 나오지 않는지를 배움으로써 텍스트 말뭉치를 관찰하고 문법을 학습하는 것에서 비롯됐다.  \n",
        "언어 모델은 이러한 방식으로 다양한 시퀸스가 주어졌을 때 다른 단어 또는 시퀸스가 발생할 확률적 규칙을 정한다."
      ],
      "metadata": {
        "id": "cMXIM6EQMegk"
      }
    },
    {
      "cell_type": "code",
      "execution_count": 1,
      "metadata": {
        "id": "kfltYyrFL41a"
      },
      "outputs": [],
      "source": [
        "import math\n",
        "import time\n",
        "\n",
        "import torch\n",
        "import torch.nn as nn\n",
        "import torch.nn.functional as F\n",
        "from torch.nn import TransformerEncoder, TransformerEncoderLayer\n",
        "\n",
        "import torchtext\n",
        "from torchtext.data.utils import get_tokenizer"
      ]
    },
    {
      "cell_type": "markdown",
      "source": [
        "\n",
        "\n",
        "```\n",
        "TransformerEncoder, TransformerEncoderLayer\n",
        "```\n",
        "는 Transformer 모델에 특화된 모듈이다.\n",
        "\n"
      ],
      "metadata": {
        "id": "eoMhhuNsNL5g"
      }
    },
    {
      "cell_type": "markdown",
      "source": [
        "### Transformer Model Architecture"
      ],
      "metadata": {
        "id": "bo0zKmDDNUiM"
      }
    },
    {
      "cell_type": "markdown",
      "source": [
        "![트랜스포머 모델 아키텍처.jpg](data:image/jpeg;base64,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)    \n",
        "![attention](https://velog.velcdn.com/images%2Fyjinheon%2Fpost%2F0650b1ec-c415-4137-ae48-0b1844a512c0%2FAttenstion_is_all_You_Need1.png)\n",
        "Transformer 모델은 인코더-디코더 기반의 아키첵처 이다. 아키텍처가 깊어질수록 인코더와 디코더는 여러번 이어 붙일 수 있다. 이 그림에서는 2개의 인코더와 하나의 디코더로 구성되어 있다. 이 인코더-디코더 설정은 인코더가 시퀸스를 입력으로 가져와서 입력 시퀸스에 있는 단어 수만큼의 임베딩을 생성함(단어 하나 당 하나의 임베딩)을 뜻한다. 이 임베딩은 지금까지 모델에서 만들어진 예측과 함께 디코더에 제공된다.\n"
      ],
      "metadata": {
        "id": "1ukrMF_HSK0y"
      }
    },
    {
      "cell_type": "markdown",
      "source": [
        "- **임베딩 계층** : 이 계층은 임베딩, 즉 시퀸스의 각 입력 단어를 숫자 벡터로 변환하는 전형적인 작업을 수행한다. `torch.nn.Embedding` 모듈을 사용한다.  \n",
        "- **위치 인코더** : transformer 모델은 아키텍처에 순환 계층이 없지만, 시퀸스 작업에서 순환 네트워크보다 성능이 뛰어나다. 위치 인코딩(positional encoding)이라는 깔끔한 트릭으로 모델이 데이터의 순서에 대해 감을 잡을 수 있기 때문이다. 특정 순차 패턴을 따르는 벡터가 입력 단어 임베딩에 추가된다. 이러한 벡터는 모델에서 첫 번째 단어 뒤에 두번째 단어가 따라 나오는 것을 이해할 수 있게 하는 방식으로 생성된다. 벡터는 후속 단어 사이의 규칙적인 주기성과 거리를 나타내기 위해 각각 사인 곡선(sinusoidal) 함수와 코사인 곡선(cosinusoidal) 함수를 사용해 생성된다.  \n",
        "sin과 cos 함수는 순차 패턴을 제공하기 위해 번갈아 사용된다."
      ],
      "metadata": {
        "id": "c1aglsZySpHa"
      }
    },
    {
      "cell_type": "code",
      "source": [
        "class PosEnc(nn.Module):\n",
        "    def __init__(self, d_m, dropout=0.2, size_limit=5000):\n",
        "        # d_m is same as the dimension of the embeddings\n",
        "        super(PosEnc, self).__init__()\n",
        "        self.dropout = nn.Dropout(dropout)\n",
        "        p_enc = torch.zeros(size_limit, d_m)\n",
        "        pos = torch.arange(0, size_limit, dtype=torch.float).unsqueeze(1)\n",
        "        divider = torch.exp(torch.arange(0, d_m, 2).float() * (-math.log(10000.0) / d_m))\n",
        "        # divider is the list of radians, multiplied by position indices of words, and fed to the sinusoidal and cosinusoidal function\n",
        "        p_enc[:, 0::2] = torch.sin(pos * divider) # 0, 2, 4 ...\n",
        "        p_enc[:, 1::2] = torch.cos(pos * divider) # 1, 3, 5 ...\n",
        "        p_enc = p_enc.unsqueeze(0).transpose(0, 1)\n",
        "        self.register_buffer('p_enc', p_enc)\n",
        "\n",
        "    def forward(self, x):\n",
        "        return self.dropout(x + self.p_enc[:x.size(0), :])"
      ],
      "metadata": {
        "id": "EtWPlOdlNJAf"
      },
      "execution_count": 2,
      "outputs": []
    },
    {
      "cell_type": "markdown",
      "source": [
        "*self-attention layer* : self-attention layer는 attention 메커니즘이 자기 자신, 즉 시퀸스의 각 단어에 적용된다. 시퀸스의 각 단어 임베딩은 셀프-어텐션 계층을 통과해 단어 임베딩과 똑같은 길이의 개별 출력을 만들어 낸다.  \n",
        "각 단어에 대해 세 개의 벡터가 세 개의 학습 가능한 매개변수 행렬(Pq(query), Pk(key), Pv(value))를 통해 생성된다. query와 key 벡터를 스칼라곱(또는 점곱)하여 각 단어에 대한 숫자를 생성한다. 이 숫자를 각 단어의 키 벡터 길이의 제곱근으로 나누어 정규화한다. 모든 단어에 대해 결과 숫자에 소프트맥스 함수가 동시에 적용되어 확률을 생성하고, 이 확률에 마지막으로 각 단어의 value 벡터를 곱한다.  \n",
        "결과적으로 시퀸스의 각 단어에 대한 하나의 출력 벡터가 생성되는데 이때 출력 벡터의 길이는 입력 단어 임베딩과 동일하다.\n",
        "![Self-Attention Layer.jpg](data:image/jpeg;base64,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)  "
      ],
      "metadata": {
        "id": "NkOudmoJVATk"
      }
    },
    {
      "cell_type": "markdown",
      "source": [
        "- **멀티-헤드 어텐션** : 멀티-헤드 어텐션 계층은 여러 셀프-어텐션 모듈이 각 단어에 대한 출력을 계산하는 셀프-어텐션 계층의 확장판이다. 이 개별 출력을 연결하고 다른 매개변수 행렬(Pm)과 행렬 곱해서 입력 임베딩 벡터와 길이가 같은 최종 출력 벡터를 생성한다.  \n",
        "셀프-어텐션 헤드를 여러 개 두면 여러 개의 헤드가 시퀸스 단어의 다양한 관점에 집중하도록 도와준다. 이는 합성곱 신경망에서 여러 개의 특징 맵이 다양한 패턴을 학습하는 방법과 유사하다.  \n",
        "또한 디코더 유닛의 마스킹된 멀티-헤드 어텐션 계층은 마스킹이 추가됐다는 점을 제외하면 멀티-헤드 어텐션 계층과 똑같은 방식으로 작동한다. 즉, 시퀸스 처리의 시간 단계 t가 주어지면 t+1에서 n(시퀸스 길이)까지의 모든 단어가 마스킹(숨겨짐)된다.  \n",
        "훈련하는 동안 디코더에는 두 종류의 입력이 제공된다. 그중 하나는 최종 인코더에서 query와 key 벡터를 입력으로 받아 마스킹되지 않은 멀티-헤드 어텐션 계층으로 전달한다. 여기에서 이 query와 key 벡터는 최종 인코더 출력을 행렬로 변환한 것이다. 다른 하나는 이전 시간 단계에서 만들어진 예측을 입력으로 받아 마스킹된 멀티-헤드 어텐션 계층에 전달한다.\n",
        "![멀티-헤드 어텐션 계층.jpg](data:image/jpeg;base64,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)\n"
      ],
      "metadata": {
        "id": "al3Uv039agT0"
      }
    },
    {
      "cell_type": "markdown",
      "source": [
        "- **덧셈과 계층 정규화(Addition & Layer Normalization)** : Transformer 모델 아키텍처에서 Add & Norm 계층들 간에 Residual Connection이 있는 것을 볼 수 있다. 각 인스턴스에서 입력 단어 임베딩 벡터를 멀티-헤드 어텐션 계층의 출력 벡터에 바로 더함으로써 Residual Connection이 설정된다. 이렇게 하면 네트워크 전체에서 경사를 전달하기 더 쉽고 경사가 폭발하거나 소실하는 문제를 피할 수 있다. 또한 계층 간에 항등 함수를 효율적으로 학습하는데 도움이 된다.  \n",
        "게다가 계층 정규화는 정규화 기법으로 사용된다. 여기에서 각 특징이 독립적으로 정규화되어 모든 특징이 균등한 평균과 표준편차를 갖는다. 이러한 Add & Norm은 네트워크의 각 단계에서 시퀸스의 각 단어 벡터에 개별적으로 적용된다."
      ],
      "metadata": {
        "id": "oD9GHMUhyjgm"
      }
    },
    {
      "cell_type": "markdown",
      "source": [
        "- **순전파 계층(Forward)** : 인코더와 디코더 유닛 모두에서 시퀸스의 모든 단어에 대해 정규화된 residual 출력 벡터가 공통 forward 계층을 통해 전달된다. 단어 전체에 공통 매개변수 세트가 있기 때문에 이 계층은 시퀸스 전체에서 더 광범위한 패턴을 학습하는 데 도움이 된다."
      ],
      "metadata": {
        "id": "9bR33ySczMOo"
      }
    },
    {
      "cell_type": "markdown",
      "source": [
        "- **선형 및 소프트맥스 계층(Linear & Softmax)** : 지금까지 각 계층은 단어당 하나씩 벡터 시퀸스를 출력한다. Linear 계층은 벡터 시퀸스를 단어 사전의 길이와 똑같은 크기를 갖는 단일 벡터로 변환한다. 소프트맥스 계층은 이 출력을 확률 벡터(확률 벡터의 총합은 1)로 변환한다. 이 확률은 사전에서 각 단어가 시퀸스의 단어로 등장할 확률을 의미한다."
      ],
      "metadata": {
        "id": "CTPsWkQIzmmX"
      }
    },
    {
      "cell_type": "markdown",
      "source": [
        "### Define Transformer Model with PyTorch"
      ],
      "metadata": {
        "id": "zUcb-u3O0gz-"
      }
    },
    {
      "cell_type": "code",
      "source": [
        "class Transformer(nn.Module):\n",
        "    def __init__(self, num_token, num_inputs, num_heads, num_hidden, num_layers, dropout=0.3):\n",
        "        super(Transformer, self).__init__()\n",
        "        self.model_name = 'transformer'\n",
        "        self.mask_source = None\n",
        "        self.position_enc = PosEnc(num_inputs, dropout)\n",
        "        layers_enc = TransformerEncoderLayer(num_inputs, num_heads, num_hidden, dropout)\n",
        "        self.enc_transformer = TransformerEncoder(layers_enc, num_layers)\n",
        "        self.enc = nn.Embedding(num_token, num_inputs)\n",
        "        self.num_inputs = num_inputs\n",
        "        self.dec = nn.Linear(num_inputs, num_token)\n",
        "        self.init_params()\n",
        "\n",
        "    def _gen_sqr_nxt_mask(self, size):\n",
        "        msk = (torch.triu(torch.ones(size, size)) == 1).transpose(0, 1)\n",
        "        msk = msk.float().masked_fill(msk == 0, float('-inf'))\n",
        "        msk = msk.masked_fill(msk == 1, float(0.0))\n",
        "        return msk\n",
        "\n",
        "    def init_params(self):\n",
        "        initial_rng = 0.12\n",
        "        self.enc.weight.data.uniform_(-initial_rng, initial_rng)\n",
        "        self.dec.bias.data.zero_()\n",
        "        self.dec.weight.data.uniform_(-initial_rng, initial_rng)\n",
        "\n",
        "    def forward(self, source):\n",
        "        if self.mask_source is None or self.mask_source.size(0) != len(source):\n",
        "            dvc = source.device\n",
        "            msk = self._gen_sqr_nxt_mask(len(source)).to(dvc)\n",
        "            self.mask_source = msk\n",
        "\n",
        "        source = self.enc(source) * math.sqrt(self.num_inputs)\n",
        "        source = self.position_enc(source)\n",
        "        op = self.enc_transformer(source, self.mask_source)\n",
        "        op = self.dec(op)\n",
        "        return op"
      ],
      "metadata": {
        "id": "WyVPXhRmUluw"
      },
      "execution_count": 3,
      "outputs": []
    },
    {
      "cell_type": "markdown",
      "source": [
        "언어 모델링 작업의 경우 단어 시퀸스를 입력으로 받아 단일 출력만 내면 된다. 이 때문에 디코더(`self.dec`)는 인코더의 벡터 시퀸스를 단일 출력 벡터로 변환하는 선형 계층일 뿐이다."
      ],
      "metadata": {
        "id": "RNJhpqNo0Nqt"
      }
    },
    {
      "cell_type": "markdown",
      "source": [
        "### Load Dataset  \n",
        "[위키피디아 텍스트 사용](https://blog.salesforceairesearch.com/the-wikitext-long-term-dependency-language-modeling-dataset/)"
      ],
      "metadata": {
        "id": "Wka1GiOd0k--"
      }
    },
    {
      "cell_type": "code",
      "source": [
        "!pip install torchtext==0.5.0"
      ],
      "metadata": {
        "colab": {
          "base_uri": "https://localhost:8080/",
          "height": 688
        },
        "id": "xrjyqExB1mdT",
        "outputId": "1b9c74f3-811c-4978-d8fa-7bab61525c67"
      },
      "execution_count": 6,
      "outputs": [
        {
          "output_type": "stream",
          "name": "stdout",
          "text": [
            "Collecting torchtext==0.5.0\n",
            "  Downloading torchtext-0.5.0-py3-none-any.whl (73 kB)\n",
            "\u001b[?25l     \u001b[90m━━━━━━━━━━━━━━━━━━━━━━━━━━━━━━━━━━━━━━━━\u001b[0m \u001b[32m0.0/73.2 kB\u001b[0m \u001b[31m?\u001b[0m eta \u001b[36m-:--:--\u001b[0m\r\u001b[2K     \u001b[90m━━━━━━━━━━━━━━━━━━━━━━━━━━━━━━━━━━━━━━━━\u001b[0m \u001b[32m73.2/73.2 kB\u001b[0m \u001b[31m2.4 MB/s\u001b[0m eta \u001b[36m0:00:00\u001b[0m\n",
            "\u001b[?25hRequirement already satisfied: tqdm in /usr/local/lib/python3.10/dist-packages (from torchtext==0.5.0) (4.66.1)\n",
            "Requirement already satisfied: requests in /usr/local/lib/python3.10/dist-packages (from torchtext==0.5.0) (2.31.0)\n",
            "Requirement already satisfied: torch in /usr/local/lib/python3.10/dist-packages (from torchtext==0.5.0) (2.0.1+cu118)\n",
            "Requirement already satisfied: numpy in /usr/local/lib/python3.10/dist-packages (from torchtext==0.5.0) (1.23.5)\n",
            "Requirement already satisfied: six in /usr/local/lib/python3.10/dist-packages (from torchtext==0.5.0) (1.16.0)\n",
            "Collecting sentencepiece (from torchtext==0.5.0)\n",
            "  Downloading sentencepiece-0.1.99-cp310-cp310-manylinux_2_17_x86_64.manylinux2014_x86_64.whl (1.3 MB)\n",
            "\u001b[2K     \u001b[90m━━━━━━━━━━━━━━━━━━━━━━━━━━━━━━━━━━━━━━━━\u001b[0m \u001b[32m1.3/1.3 MB\u001b[0m \u001b[31m10.0 MB/s\u001b[0m eta \u001b[36m0:00:00\u001b[0m\n",
            "\u001b[?25hRequirement already satisfied: charset-normalizer<4,>=2 in /usr/local/lib/python3.10/dist-packages (from requests->torchtext==0.5.0) (3.2.0)\n",
            "Requirement already satisfied: idna<4,>=2.5 in /usr/local/lib/python3.10/dist-packages (from requests->torchtext==0.5.0) (3.4)\n",
            "Requirement already satisfied: urllib3<3,>=1.21.1 in /usr/local/lib/python3.10/dist-packages (from requests->torchtext==0.5.0) (2.0.4)\n",
            "Requirement already satisfied: certifi>=2017.4.17 in /usr/local/lib/python3.10/dist-packages (from requests->torchtext==0.5.0) (2023.7.22)\n",
            "Requirement already satisfied: filelock in /usr/local/lib/python3.10/dist-packages (from torch->torchtext==0.5.0) (3.12.2)\n",
            "Requirement already satisfied: typing-extensions in /usr/local/lib/python3.10/dist-packages (from torch->torchtext==0.5.0) (4.5.0)\n",
            "Requirement already satisfied: sympy in /usr/local/lib/python3.10/dist-packages (from torch->torchtext==0.5.0) (1.12)\n",
            "Requirement already satisfied: networkx in /usr/local/lib/python3.10/dist-packages (from torch->torchtext==0.5.0) (3.1)\n",
            "Requirement already satisfied: jinja2 in /usr/local/lib/python3.10/dist-packages (from torch->torchtext==0.5.0) (3.1.2)\n",
            "Requirement already satisfied: triton==2.0.0 in /usr/local/lib/python3.10/dist-packages (from torch->torchtext==0.5.0) (2.0.0)\n",
            "Requirement already satisfied: cmake in /usr/local/lib/python3.10/dist-packages (from triton==2.0.0->torch->torchtext==0.5.0) (3.27.4.1)\n",
            "Requirement already satisfied: lit in /usr/local/lib/python3.10/dist-packages (from triton==2.0.0->torch->torchtext==0.5.0) (16.0.6)\n",
            "Requirement already satisfied: MarkupSafe>=2.0 in /usr/local/lib/python3.10/dist-packages (from jinja2->torch->torchtext==0.5.0) (2.1.3)\n",
            "Requirement already satisfied: mpmath>=0.19 in /usr/local/lib/python3.10/dist-packages (from sympy->torch->torchtext==0.5.0) (1.3.0)\n",
            "Installing collected packages: sentencepiece, torchtext\n",
            "  Attempting uninstall: torchtext\n",
            "    Found existing installation: torchtext 0.15.2\n",
            "    Uninstalling torchtext-0.15.2:\n",
            "      Successfully uninstalled torchtext-0.15.2\n",
            "Successfully installed sentencepiece-0.1.99 torchtext-0.5.0\n"
          ]
        },
        {
          "output_type": "display_data",
          "data": {
            "application/vnd.colab-display-data+json": {
              "pip_warning": {
                "packages": [
                  "torchtext"
                ]
              }
            }
          },
          "metadata": {}
        }
      ]
    },
    {
      "cell_type": "code",
      "source": [
        "TEXT = torchtext.data.Field(tokenize=get_tokenizer(\"basic_english\"), lower=True, eos_token='<eos>', init_token='<sos>')\n",
        "training_text, validation_text, testing_text = torchtext.datasets.WikiText2.splits(TEXT)\n",
        "TEXT.build_vocab(training_text)\n",
        "device = torch.device(\"cuda\" if torch.cuda.is_available() else \"cpu\")\n",
        "\n",
        "def gen_batches(text_dataset, batch_size):\n",
        "    text_dataset = TEXT.numericalize([text_dataset.examples[0].text])\n",
        "    # divide text dataset into parts of size equal to batch_size\n",
        "    num_batches = text_dataset.size(0) // batch_size\n",
        "    # remove data points that lie outside batches (remainders)\n",
        "    text_dataset = text_dataset.narrow(0, 0, num_batches * batch_size)\n",
        "    # distribute dataset across batches evenly\n",
        "    text_dataset = text_dataset.view(batch_size, -1).t().contiguous()\n",
        "    return text_dataset.to(device)\n",
        "\n",
        "training_batch_size = 32\n",
        "evaluation_batch_size = 16\n",
        "\n",
        "training_data = gen_batches(training_text, training_batch_size)\n",
        "validation_data = gen_batches(validation_text, evaluation_batch_size)\n",
        "testing_data = gen_batches(testing_text, evaluation_batch_size)"
      ],
      "metadata": {
        "colab": {
          "base_uri": "https://localhost:8080/"
        },
        "id": "YPA25tg70BF8",
        "outputId": "7b8a6cba-c0e1-49fb-87c6-ec5a0013f3d8"
      },
      "execution_count": 4,
      "outputs": [
        {
          "output_type": "stream",
          "name": "stdout",
          "text": [
            "downloading wikitext-2-v1.zip\n"
          ]
        },
        {
          "output_type": "stream",
          "name": "stderr",
          "text": [
            "wikitext-2-v1.zip: 100%|██████████| 4.48M/4.48M [00:00<00:00, 10.2MB/s]\n"
          ]
        },
        {
          "output_type": "stream",
          "name": "stdout",
          "text": [
            "extracting\n"
          ]
        }
      ]
    },
    {
      "cell_type": "code",
      "source": [
        "max_seq_len = 64\n",
        "def return_batch(src, k):\n",
        "    sequence_length = min(max_seq_len, len(src) - 1 - k)\n",
        "    sequence_data = src[k:k+sequence_length]\n",
        "    sequence_label = src[k+1:k+1+sequence_length].view(-1)\n",
        "    return sequence_data, sequence_label"
      ],
      "metadata": {
        "id": "Qs9cs-_A0-IT"
      },
      "execution_count": 5,
      "outputs": []
    },
    {
      "cell_type": "markdown",
      "source": [
        "### Train Transformer Model"
      ],
      "metadata": {
        "id": "yPowIj0u2HKk"
      }
    },
    {
      "cell_type": "code",
      "source": [
        "num_tokens = len(TEXT.vocab.stoi) # vocabulary size\n",
        "embedding_size = 256 # dimension of embedding layer\n",
        "num_hidden_params = 256 # transformer encoder's hidden (feed forward) layer dimension\n",
        "num_layers = 2 # num of transformer encoder layers within transformer encoder\n",
        "num_heads = 2 # num of heads in (multi head) attention models\n",
        "dropout = 0.25 # value (fraction) of dropout\n",
        "loss_func = nn.CrossEntropyLoss()\n",
        "lrate = 4.0 # learning rate\n",
        "transformer_model = Transformer(num_tokens, embedding_size, num_heads, num_hidden_params, num_layers,\n",
        "                                     dropout).to(device)\n",
        "optim_module = torch.optim.SGD(transformer_model.parameters(), lr=lrate)\n",
        "sched_module = torch.optim.lr_scheduler.StepLR(optim_module, 1.0, gamma=0.88)"
      ],
      "metadata": {
        "id": "y3GMISR52Fut"
      },
      "execution_count": 6,
      "outputs": []
    },
    {
      "cell_type": "code",
      "source": [
        "def train_model():\n",
        "    transformer_model.train()\n",
        "    loss_total = 0.\n",
        "    time_start = time.time()\n",
        "    num_tokens = len(TEXT.vocab.stoi)\n",
        "    for b, i in enumerate(range(0, training_data.size(0) - 1, max_seq_len)):\n",
        "        train_data_batch, train_label_batch = return_batch(training_data, i)\n",
        "        optim_module.zero_grad()\n",
        "        op = transformer_model(train_data_batch)\n",
        "        loss_curr = loss_func(op.view(-1, num_tokens), train_label_batch)\n",
        "        loss_curr.backward()\n",
        "        torch.nn.utils.clip_grad_norm_(transformer_model.parameters(), 0.6)\n",
        "        optim_module.step()\n",
        "\n",
        "        loss_total += loss_curr.item()\n",
        "        interval = 100\n",
        "        if b % interval == 0 and b > 0:\n",
        "            loss_interval = loss_total / interval\n",
        "            time_delta = time.time() - time_start\n",
        "            print(f\"epoch {ep}, {b}/{len(training_data)//max_seq_len} batches, training loss {loss_interval:.2f}, training perplexity {math.exp(loss_interval):.2f}\")\n",
        "            loss_total = 0\n",
        "            time_start = time.time()\n",
        "\n",
        "def eval_model(eval_model_obj, eval_data_source):\n",
        "    eval_model_obj.eval()\n",
        "    loss_total = 0.\n",
        "    num_tokens = len(TEXT.vocab.stoi)\n",
        "    with torch.no_grad():\n",
        "        for j in range(0, eval_data_source.size(0) - 1, max_seq_len):\n",
        "            eval_data, eval_label = return_batch(eval_data_source, j)\n",
        "            op = eval_model_obj(eval_data)\n",
        "            op_flat = op.view(-1, num_tokens)\n",
        "            loss_total += len(eval_data) * loss_func(op_flat, eval_label).item()\n",
        "    return loss_total / (len(eval_data_source) - 1)"
      ],
      "metadata": {
        "id": "MNwLdEdT2NfU"
      },
      "execution_count": 7,
      "outputs": []
    },
    {
      "cell_type": "code",
      "source": [
        "min_validation_loss = float(\"inf\")\n",
        "eps = 5\n",
        "best_model_so_far = None\n",
        "\n",
        "for ep in range(1, eps + 1):\n",
        "    ep_time_start = time.time()\n",
        "    train_model()\n",
        "    validation_loss = eval_model(transformer_model, validation_data)\n",
        "    print()\n",
        "    print(f\"epoch {ep:}, validation loss {validation_loss:.2f}, validation perplexity {math.exp(validation_loss):.2f}\")\n",
        "    print()\n",
        "\n",
        "    if validation_loss < min_validation_loss:\n",
        "        min_validation_loss = validation_loss\n",
        "        best_model_so_far = transformer_model\n",
        "\n",
        "    sched_module.step()"
      ],
      "metadata": {
        "colab": {
          "base_uri": "https://localhost:8080/"
        },
        "id": "X9TiNw1d2UZc",
        "outputId": "d113737b-cd7e-4792-b9c9-794b13915162"
      },
      "execution_count": 8,
      "outputs": [
        {
          "output_type": "stream",
          "name": "stdout",
          "text": [
            "epoch 1, 100/1018 batches, training loss 8.60, training perplexity 5436.95\n",
            "epoch 1, 200/1018 batches, training loss 7.28, training perplexity 1449.65\n",
            "epoch 1, 300/1018 batches, training loss 6.82, training perplexity 918.97\n",
            "epoch 1, 400/1018 batches, training loss 6.61, training perplexity 741.83\n",
            "epoch 1, 500/1018 batches, training loss 6.50, training perplexity 663.86\n",
            "epoch 1, 600/1018 batches, training loss 6.33, training perplexity 561.84\n",
            "epoch 1, 700/1018 batches, training loss 6.28, training perplexity 532.29\n",
            "epoch 1, 800/1018 batches, training loss 6.15, training perplexity 467.29\n",
            "epoch 1, 900/1018 batches, training loss 6.12, training perplexity 453.94\n",
            "epoch 1, 1000/1018 batches, training loss 6.09, training perplexity 441.00\n",
            "\n",
            "epoch 1, validation loss 5.80, validation perplexity 330.38\n",
            "\n",
            "epoch 2, 100/1018 batches, training loss 6.00, training perplexity 405.02\n",
            "epoch 2, 200/1018 batches, training loss 5.93, training perplexity 374.84\n",
            "epoch 2, 300/1018 batches, training loss 5.84, training perplexity 345.44\n",
            "epoch 2, 400/1018 batches, training loss 5.81, training perplexity 334.15\n",
            "epoch 2, 500/1018 batches, training loss 5.84, training perplexity 342.25\n",
            "epoch 2, 600/1018 batches, training loss 5.78, training perplexity 323.69\n",
            "epoch 2, 700/1018 batches, training loss 5.79, training perplexity 325.40\n",
            "epoch 2, 800/1018 batches, training loss 5.67, training perplexity 289.46\n",
            "epoch 2, 900/1018 batches, training loss 5.69, training perplexity 294.45\n",
            "epoch 2, 1000/1018 batches, training loss 5.71, training perplexity 302.29\n",
            "\n",
            "epoch 2, validation loss 5.57, validation perplexity 262.61\n",
            "\n",
            "epoch 3, 100/1018 batches, training loss 5.68, training perplexity 293.06\n",
            "epoch 3, 200/1018 batches, training loss 5.61, training perplexity 273.89\n",
            "epoch 3, 300/1018 batches, training loss 5.57, training perplexity 261.70\n",
            "epoch 3, 400/1018 batches, training loss 5.54, training perplexity 253.74\n",
            "epoch 3, 500/1018 batches, training loss 5.56, training perplexity 259.59\n",
            "epoch 3, 600/1018 batches, training loss 5.53, training perplexity 252.60\n",
            "epoch 3, 700/1018 batches, training loss 5.54, training perplexity 254.23\n",
            "epoch 3, 800/1018 batches, training loss 5.40, training perplexity 220.98\n",
            "epoch 3, 900/1018 batches, training loss 5.45, training perplexity 232.05\n",
            "epoch 3, 1000/1018 batches, training loss 5.49, training perplexity 242.71\n",
            "\n",
            "epoch 3, validation loss 5.44, validation perplexity 230.66\n",
            "\n",
            "epoch 4, 100/1018 batches, training loss 5.47, training perplexity 237.40\n",
            "epoch 4, 200/1018 batches, training loss 5.41, training perplexity 223.64\n",
            "epoch 4, 300/1018 batches, training loss 5.37, training perplexity 215.11\n",
            "epoch 4, 400/1018 batches, training loss 5.35, training perplexity 210.06\n",
            "epoch 4, 500/1018 batches, training loss 5.37, training perplexity 215.44\n",
            "epoch 4, 600/1018 batches, training loss 5.35, training perplexity 211.26\n",
            "epoch 4, 700/1018 batches, training loss 5.37, training perplexity 214.31\n",
            "epoch 4, 800/1018 batches, training loss 5.21, training perplexity 182.94\n",
            "epoch 4, 900/1018 batches, training loss 5.27, training perplexity 194.36\n",
            "epoch 4, 1000/1018 batches, training loss 5.32, training perplexity 203.77\n",
            "\n",
            "epoch 4, validation loss 5.31, validation perplexity 202.52\n",
            "\n",
            "epoch 5, 100/1018 batches, training loss 5.31, training perplexity 203.01\n",
            "epoch 5, 200/1018 batches, training loss 5.25, training perplexity 191.24\n",
            "epoch 5, 300/1018 batches, training loss 5.22, training perplexity 185.85\n",
            "epoch 5, 400/1018 batches, training loss 5.20, training perplexity 182.08\n",
            "epoch 5, 500/1018 batches, training loss 5.23, training perplexity 186.28\n",
            "epoch 5, 600/1018 batches, training loss 5.21, training perplexity 182.72\n",
            "epoch 5, 700/1018 batches, training loss 5.23, training perplexity 186.94\n",
            "epoch 5, 800/1018 batches, training loss 5.06, training perplexity 158.09\n",
            "epoch 5, 900/1018 batches, training loss 5.13, training perplexity 169.14\n",
            "epoch 5, 1000/1018 batches, training loss 5.18, training perplexity 177.57\n",
            "\n",
            "epoch 5, validation loss 5.23, validation perplexity 187.41\n",
            "\n"
          ]
        }
      ]
    },
    {
      "cell_type": "markdown",
      "source": [
        "* 혼란도(perplexity) : 혼란도는 자연어 처리에서 확률 분포(여기서는 언어 모델)가 샘플에 얼마나 잘 맞느지 또는 잘 예측하는지를 나타내기 위해 사용되는 평가 지표다. 수학적으로 혼란도는 교차-엔트로피 손실의 지수다. 직관적으로 이 평가 지표는 모델이 예측할 때 얼마나 혼란스러운지를 나타낼 때 사용된다."
      ],
      "metadata": {
        "id": "VM59dtsX2_7p"
      }
    },
    {
      "cell_type": "code",
      "source": [
        "testing_loss = eval_model(best_model_so_far, testing_data)\n",
        "print(f\"testing loss {testing_loss:.2f}, testing perplexity {math.exp(testing_loss):.2f}\")"
      ],
      "metadata": {
        "colab": {
          "base_uri": "https://localhost:8080/"
        },
        "id": "lCGxRqIj2XFd",
        "outputId": "35dee054-c91e-4354-d235-dd13a12a78bc"
      },
      "execution_count": 9,
      "outputs": [
        {
          "output_type": "stream",
          "name": "stdout",
          "text": [
            "testing loss 5.15, testing perplexity 171.74\n"
          ]
        }
      ]
    },
    {
      "cell_type": "markdown",
      "source": [
        "2017년에 고안된 초기 트랜스포머 모델 외에 수년에 걸쳐 특히 언어 모델링 분야에서 여러 후속 모델들이 개발됐다.  \n",
        "- Bidirectional Encoder Representations from Transformers (BERT), 2018  \n",
        "- Generative Pretrained Transformer (GPT), 2018  \n",
        "- GPT-2, 2019  \n",
        "- Conditional Transformer Language Model (CTRL), 2019  \n",
        "- Transformer-XL, 2019  \n",
        "- Distilled BERT (DistilBERT), 2019  \n",
        "- Robustly optimized BERT pretraining Approach (RoBERTa), 2019  \n",
        "- GPT-3, 2020"
      ],
      "metadata": {
        "id": "wuGmFFZV3lad"
      }
    },
    {
      "cell_type": "markdown",
      "source": [
        "HuggingFace가 개발한 transformer 라이브러리를 사용하면 이 모델들을 쉽게 사용할 수 있다.  \n",
        "모델뿐 아니라 각 모델에 대한 토큰화 모델도 제공한다. 예를 들어, 언어 모델링을 위해 사전 훈련된 BERT 모델을 사용하고 싶다면 다음과 같이 사용할 수 있다.  \n",
        "https://github.com/huggingface/transformers"
      ],
      "metadata": {
        "id": "yayda_Qv4HjI"
      }
    },
    {
      "cell_type": "code",
      "source": [
        "!pip install transformers"
      ],
      "metadata": {
        "colab": {
          "base_uri": "https://localhost:8080/"
        },
        "id": "Nr8R1oi_Dk9J",
        "outputId": "e972c792-d1b8-4743-b109-548c6f973196"
      },
      "execution_count": 1,
      "outputs": [
        {
          "output_type": "stream",
          "name": "stdout",
          "text": [
            "Collecting transformers\n",
            "  Downloading transformers-4.33.2-py3-none-any.whl (7.6 MB)\n",
            "\u001b[2K     \u001b[90m━━━━━━━━━━━━━━━━━━━━━━━━━━━━━━━━━━━━━━━━\u001b[0m \u001b[32m7.6/7.6 MB\u001b[0m \u001b[31m22.3 MB/s\u001b[0m eta \u001b[36m0:00:00\u001b[0m\n",
            "\u001b[?25hRequirement already satisfied: filelock in /usr/local/lib/python3.10/dist-packages (from transformers) (3.12.2)\n",
            "Collecting huggingface-hub<1.0,>=0.15.1 (from transformers)\n",
            "  Downloading huggingface_hub-0.17.2-py3-none-any.whl (294 kB)\n",
            "\u001b[2K     \u001b[90m━━━━━━━━━━━━━━━━━━━━━━━━━━━━━━━━━━━━━━\u001b[0m \u001b[32m294.9/294.9 kB\u001b[0m \u001b[31m36.6 MB/s\u001b[0m eta \u001b[36m0:00:00\u001b[0m\n",
            "\u001b[?25hRequirement already satisfied: numpy>=1.17 in /usr/local/lib/python3.10/dist-packages (from transformers) (1.23.5)\n",
            "Requirement already satisfied: packaging>=20.0 in /usr/local/lib/python3.10/dist-packages (from transformers) (23.1)\n",
            "Requirement already satisfied: pyyaml>=5.1 in /usr/local/lib/python3.10/dist-packages (from transformers) (6.0.1)\n",
            "Requirement already satisfied: regex!=2019.12.17 in /usr/local/lib/python3.10/dist-packages (from transformers) (2023.6.3)\n",
            "Requirement already satisfied: requests in /usr/local/lib/python3.10/dist-packages (from transformers) (2.31.0)\n",
            "Collecting tokenizers!=0.11.3,<0.14,>=0.11.1 (from transformers)\n",
            "  Downloading tokenizers-0.13.3-cp310-cp310-manylinux_2_17_x86_64.manylinux2014_x86_64.whl (7.8 MB)\n",
            "\u001b[2K     \u001b[90m━━━━━━━━━━━━━━━━━━━━━━━━━━━━━━━━━━━━━━━━\u001b[0m \u001b[32m7.8/7.8 MB\u001b[0m \u001b[31m70.2 MB/s\u001b[0m eta \u001b[36m0:00:00\u001b[0m\n",
            "\u001b[?25hCollecting safetensors>=0.3.1 (from transformers)\n",
            "  Downloading safetensors-0.3.3-cp310-cp310-manylinux_2_17_x86_64.manylinux2014_x86_64.whl (1.3 MB)\n",
            "\u001b[2K     \u001b[90m━━━━━━━━━━━━━━━━━━━━━━━━━━━━━━━━━━━━━━━━\u001b[0m \u001b[32m1.3/1.3 MB\u001b[0m \u001b[31m65.7 MB/s\u001b[0m eta \u001b[36m0:00:00\u001b[0m\n",
            "\u001b[?25hRequirement already satisfied: tqdm>=4.27 in /usr/local/lib/python3.10/dist-packages (from transformers) (4.66.1)\n",
            "Requirement already satisfied: fsspec in /usr/local/lib/python3.10/dist-packages (from huggingface-hub<1.0,>=0.15.1->transformers) (2023.6.0)\n",
            "Requirement already satisfied: typing-extensions>=3.7.4.3 in /usr/local/lib/python3.10/dist-packages (from huggingface-hub<1.0,>=0.15.1->transformers) (4.5.0)\n",
            "Requirement already satisfied: charset-normalizer<4,>=2 in /usr/local/lib/python3.10/dist-packages (from requests->transformers) (3.2.0)\n",
            "Requirement already satisfied: idna<4,>=2.5 in /usr/local/lib/python3.10/dist-packages (from requests->transformers) (3.4)\n",
            "Requirement already satisfied: urllib3<3,>=1.21.1 in /usr/local/lib/python3.10/dist-packages (from requests->transformers) (2.0.4)\n",
            "Requirement already satisfied: certifi>=2017.4.17 in /usr/local/lib/python3.10/dist-packages (from requests->transformers) (2023.7.22)\n",
            "Installing collected packages: tokenizers, safetensors, huggingface-hub, transformers\n",
            "Successfully installed huggingface-hub-0.17.2 safetensors-0.3.3 tokenizers-0.13.3 transformers-4.33.2\n"
          ]
        }
      ]
    },
    {
      "cell_type": "code",
      "source": [
        "import torch\n",
        "from transformers import BertForMaskedLM, BertTokenizer\n",
        "\n",
        "bert_model = BertForMaskedLM.from_pretrained('bert-base-uncased')\n",
        "token_gen = BertTokenizer.from_pretrained('bert-base-uncased')\n",
        "\n",
        "\n",
        "ip_sequence = token_gen(\"I love PyTorch !\", return_tensors=\"pt\")[\"input_ids\"]\n",
        "\n",
        "op = bert_model(ip_sequence, labels=ip_sequence)\n",
        "total_loss, raw_preds = op[:2]"
      ],
      "metadata": {
        "colab": {
          "base_uri": "https://localhost:8080/",
          "height": 220,
          "referenced_widgets": [
            "a45f9e9613484d8c906b27a045c3ba63",
            "e56f50194efc40d1a0f4bfa124e1acd8",
            "61bfda8725a049faa9a313b09d592667",
            "6a48b1b0bc074a5794ed181b8bbb3534",
            "8fb2de0f090241f8991125d792db9e71",
            "4260738ae53e4a449750dd2b9f868d2f",
            "e30209d6c19b4325880ad8994a0c48a6",
            "78bea1ee9d144efca3c10c77cc44868e",
            "a73aba0a1c2e4650ad91183b4379dda8",
            "9f5e88ef2d5c4bd0ad19db18df5ab3e2",
            "193b6cacf92d4b9eb6f43d09a70b8cfa",
            "bbd544acfcce4bc996e717cc79832940",
            "0d9d0460e2f74bc583c4f1e01d6cdf63",
            "209a97a3a92a420083c8f417674d17b8",
            "8012ef3712594117a6f6348e35ed5502",
            "944eeed4a5704f1bba7f821253943623",
            "439cc05f25234ba4bc1b3fe3efaed815",
            "6dd0365c17024b72ad1454520ef1a070",
            "70e741de252d46519e8fe79e2b8e92d8",
            "82433eaaf7494841b99f2489c274a039",
            "ddf3f2b7f7d24ae8bd4152712fafa101",
            "355ac04678cb4909add9586057cfab26",
            "40e8f19a7659446dba9bf5825d93eaac",
            "32f53788d20149ba9483f751a283ab61",
            "284eba028c164f80b6dfc775e309f9e8",
            "407500b06b7b431682b534adfe9f8b27",
            "92dd8d82523d4a0ea3bfb584dcd5a933",
            "09817a6d08984c2fbe12cbe58ae2991d",
            "e41f6da01c7f4b9eacce4e7eac3cbeff",
            "706161c753c549f4b8a62f9e10c23afa",
            "f309de82648041abacab0d3da931d0e9",
            "9ae03a1da9a64a5691c98750dc17e0d0",
            "042c9bdcd4e94b30b249ca52fef57178",
            "c4e69f0a6935464d98527e79403deb8d",
            "2e5f26c2e97f42b1af9241f04587c228",
            "5cb2664789804602ad0843521c4f4a5d",
            "cffe982b5ef5402884868168125ac45e",
            "fef3778fac6e4767ab353045cb02f4d6",
            "be440639c4b84518beb12c13884dbe9c",
            "c2284f0930674ba1b3982ad0ef45a441",
            "0691af6ba8444733883f5c9c21f3c206",
            "7ba9247635ce4d01a1be678b9a58f143",
            "db29f29ad0154b2faf74744f9f8921aa",
            "5054d809359d432daa276eb49e6047d8"
          ]
        },
        "id": "Mb-wc8MY3ZgZ",
        "outputId": "f6a243b3-3170-4532-930f-7bb5ebbd58c0"
      },
      "execution_count": 2,
      "outputs": [
        {
          "output_type": "display_data",
          "data": {
            "text/plain": [
              "Downloading (…)lve/main/config.json:   0%|          | 0.00/570 [00:00<?, ?B/s]"
            ],
            "application/vnd.jupyter.widget-view+json": {
              "version_major": 2,
              "version_minor": 0,
              "model_id": "a45f9e9613484d8c906b27a045c3ba63"
            }
          },
          "metadata": {}
        },
        {
          "output_type": "display_data",
          "data": {
            "text/plain": [
              "Downloading model.safetensors:   0%|          | 0.00/440M [00:00<?, ?B/s]"
            ],
            "application/vnd.jupyter.widget-view+json": {
              "version_major": 2,
              "version_minor": 0,
              "model_id": "bbd544acfcce4bc996e717cc79832940"
            }
          },
          "metadata": {}
        },
        {
          "output_type": "stream",
          "name": "stderr",
          "text": [
            "Some weights of the model checkpoint at bert-base-uncased were not used when initializing BertForMaskedLM: ['bert.pooler.dense.bias', 'cls.seq_relationship.weight', 'bert.pooler.dense.weight', 'cls.seq_relationship.bias']\n",
            "- This IS expected if you are initializing BertForMaskedLM from the checkpoint of a model trained on another task or with another architecture (e.g. initializing a BertForSequenceClassification model from a BertForPreTraining model).\n",
            "- This IS NOT expected if you are initializing BertForMaskedLM from the checkpoint of a model that you expect to be exactly identical (initializing a BertForSequenceClassification model from a BertForSequenceClassification model).\n"
          ]
        },
        {
          "output_type": "display_data",
          "data": {
            "text/plain": [
              "Downloading (…)solve/main/vocab.txt:   0%|          | 0.00/232k [00:00<?, ?B/s]"
            ],
            "application/vnd.jupyter.widget-view+json": {
              "version_major": 2,
              "version_minor": 0,
              "model_id": "40e8f19a7659446dba9bf5825d93eaac"
            }
          },
          "metadata": {}
        },
        {
          "output_type": "display_data",
          "data": {
            "text/plain": [
              "Downloading (…)okenizer_config.json:   0%|          | 0.00/28.0 [00:00<?, ?B/s]"
            ],
            "application/vnd.jupyter.widget-view+json": {
              "version_major": 2,
              "version_minor": 0,
              "model_id": "c4e69f0a6935464d98527e79403deb8d"
            }
          },
          "metadata": {}
        }
      ]
    }
  ]
}